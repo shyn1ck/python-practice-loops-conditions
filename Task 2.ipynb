{
 "cells": [
  {
   "cell_type": "markdown",
   "metadata": {
    "id": "Nqa_aLzLJ7PT"
   },
   "source": [
    "## Домашнее задание. День 2\n"
   ]
  },
  {
   "cell_type": "markdown",
   "metadata": {
    "id": "8rdbANMOJ7Qf"
   },
   "source": [
    "### Задача 1. Оценка студента и сравнение среднего значения\n",
    "\n",
    "1) Напишите программу, которая запрашивает у пользователя его балл по экзамену и выводит сообщение оценки (A, B, C, D, F) в зависимости от полученного балла. Используйте следующий критерий:\n",
    "- A: 90-100\n",
    "- B: 80-89\n",
    "- C: 70-79\n",
    "- D: 60-69\n",
    "- F: менее 60\n",
    "\n",
    "2) После вывода оценки, программа должна проверить, является ли оценка выше или ниже среднего значения (70). Если оценка выше среднего, программа должна вывести сообщение о том, что студент справился лучше среднего, а если оценка ниже среднего, сообщение о том, что студент справился хуже среднего.\n",
    "\n",
    "**Пример ожидаемого результата:**"
   ]
  },
  {
   "cell_type": "code",
   "source": [
    "# Введите ваш балл по экзамену: 85\n",
    "# Ваша оценка: B\n",
    "# Вы справились лучше среднего."
   ],
   "metadata": {
    "id": "FKBgUkQBO_An"
   },
   "execution_count": null,
   "outputs": []
  },
  {
   "cell_type": "code",
   "metadata": {
    "id": "kldguVjkJ7Qk",
    "ExecuteTime": {
     "end_time": "2024-10-24T17:44:34.648004Z",
     "start_time": "2024-10-24T17:44:29.623603Z"
    }
   },
   "source": [
    "# Решение\n",
    "score = int(input(\"Введите ваш балл по экзамену: \"))\n",
    "\n",
    "# Определяем оценку по баллу\n",
    "if 90 <= score <= 100:\n",
    "    grade = \"A\"\n",
    "elif 80 <= score <= 89:\n",
    "    grade = \"B\"\n",
    "elif 70 <= score <= 79:\n",
    "    grade = \"C\"\n",
    "elif 60 <= score <= 69:\n",
    "    grade = \"D\"\n",
    "else:\n",
    "    grade = \"F\"\n",
    "\n",
    "# Выводим оценку\n",
    "print(f\"Ваша оценка: {grade}\")\n",
    "\n",
    "# Проверяем, выше или ниже среднего значение\n",
    "if score >= 70:\n",
    "    print(\"Вы справились лучше среднего.\")\n",
    "else:\n",
    "    print(\"Вы справились хуже среднего.\")"
   ],
   "outputs": [
    {
     "name": "stdout",
     "output_type": "stream",
     "text": [
      "Ваша оценка: A\n",
      "Вы справились лучше среднего.\n"
     ]
    }
   ],
   "execution_count": 1
  },
  {
   "cell_type": "markdown",
   "metadata": {
    "id": "y2kO9-X5J7Qr"
   },
   "source": [
    "### Задача 2. Обработка оценок студентов с использованием match...case\n",
    "\n",
    "1) Напишите программу, которая запрашивает у пользователя его балл по экзамену и использует новую конструкцию match...case для определения оценки. Используйте следующий критерий:\n",
    "\n",
    "- A: 90-100\n",
    "- B: 80-89\n",
    "- C: 70-79\n",
    "- D: 60-69\n",
    "- F: менее 60\n",
    "\n",
    "2) После вывода оценки, программа должна проверить, является ли оценка выше или ниже среднего значения (70). Если оценка выше среднего, программа должна вывести сообщение о том, что студент справился лучше среднего, а если оценка ниже среднего, сообщение о том, что студент справился хуже среднег"
   ]
  },
  {
   "cell_type": "code",
   "source": [
    "# Введите ваш балл по экзамену: 85\n",
    "# Ваша оценка: B\n",
    "# Вы справились лучше среднего."
   ],
   "metadata": {
    "id": "S1mmrIvPRIPz"
   },
   "execution_count": null,
   "outputs": []
  },
  {
   "cell_type": "code",
   "execution_count": null,
   "metadata": {
    "id": "39M1_oR8J7Qu"
   },
   "outputs": [],
   "source": [
    "score = int(input(\"Введите ваш балл по экзамену: \"))\n",
    "# Используем конструкцию match...case для определения оценки\n",
    "match score:\n",
    "    case score if 90 <= score <= 100:\n",
    "        grade = \"A\"\n",
    "    case score if 80 <= score <= 89:\n",
    "        grade = \"B\"\n",
    "    case score if 70 <= score <= 79:\n",
    "        grade = \"C\"\n",
    "    case score if 60 <= score <= 69:\n",
    "        grade = \"D\"\n",
    "    case _:\n",
    "        grade = \"F\"\n",
    "\n",
    "# Выводим оценку\n",
    "print(f\"Ваша оценка: {grade}\")\n",
    "\n",
    "# Проверяем, выше или ниже среднего значение\n",
    "if score >= 70:\n",
    "    print(\"Вы справились лучше среднего.\")\n",
    "else:\n",
    "    print(\"Вы справились хуже среднего.\")"
   ]
  },
  {
   "cell_type": "markdown",
   "metadata": {
    "id": "0Z9mkpomJ7Qx"
   },
   "source": [
    "#### Задача 3. Подсчет гласных и согласных\n",
    "\n",
    "1) Создайте переменную `word`, которая содежит одно строковое значение (string) `analyst`;\n",
    "\n",
    "2) Создайте цикл `for` для подсчета количества гласных (a, e, i, o, u) и выведите их количество на экран;\n",
    "\n",
    "3) Используя цикл выведите на экран количество всех согласных букв из значения переменной (не включая гласные)."
   ]
  },
  {
   "cell_type": "code",
   "metadata": {
    "id": "JdqsqDN9J7Q0",
    "colab": {
     "base_uri": "https://localhost:8080/"
    },
    "executionInfo": {
     "status": "ok",
     "timestamp": 1706383276092,
     "user_tz": -300,
     "elapsed": 303,
     "user": {
      "displayName": "Azim Egamov",
      "userId": "02384127451703651537"
     }
    },
    "outputId": "cc8ef2bb-3fcc-4658-a7a6-d6e5148b8e08",
    "ExecuteTime": {
     "end_time": "2024-10-24T17:47:22.619923Z",
     "start_time": "2024-10-24T17:47:22.614942Z"
    }
   },
   "source": [
    "# Решение\n",
    "word = \"salom\"\n",
    "vowels = \"aeiou\"\n",
    "\n",
    "vowel_count = 0\n",
    "consonant_count = 0\n",
    "\n",
    "for char in word:\n",
    "    if char in vowels: \n",
    "        vowel_count += 1\n",
    "    else:               \n",
    "        consonant_count += 1\n",
    "\n",
    "print(f\"Количество гласных в строке: {vowel_count}\")\n",
    "print(f\"Количество согласных в строке: {consonant_count}\")"
   ],
   "outputs": [
    {
     "name": "stdout",
     "output_type": "stream",
     "text": [
      "Количество гласных в строке: 2\n",
      "Количество согласных в строке: 3\n"
     ]
    }
   ],
   "execution_count": 7
  },
  {
   "cell_type": "markdown",
   "metadata": {
    "id": "Cad0y6iYJ7Q4"
   },
   "source": [
    "### Задача 4. Поиск суммы чисел\n",
    "\n",
    "1) Напишите программу на Python, используя цикл `while`, которая запрашивает у пользователя числа, суммирует их, и прекращает ввод, когда пользователь введет 0;\n",
    "\n",
    "2) Выводите сумму введенных чисел на экран."
   ]
  },
  {
   "cell_type": "code",
   "metadata": {
    "id": "9Pu_ejjTJ7Q8",
    "executionInfo": {
     "status": "ok",
     "timestamp": 1706384051388,
     "user_tz": -300,
     "elapsed": 2176,
     "user": {
      "displayName": "Azim Egamov",
      "userId": "02384127451703651537"
     }
    },
    "ExecuteTime": {
     "end_time": "2024-10-24T17:51:01.914277Z",
     "start_time": "2024-10-24T17:50:49.999537Z"
    }
   },
   "source": [
    "# Решениe\n",
    "total_sum = 0\n",
    "number = None\n",
    "\n",
    "while number != 0:\n",
    "    number = int(input(\"Введите число (для завершения введите 0): \"))\n",
    "    total_sum += number\n",
    "print(\"Сумма введенных чисел:\", total_sum)\n"
   ],
   "outputs": [
    {
     "name": "stdout",
     "output_type": "stream",
     "text": [
      "Сумма введенных чисел: 15\n"
     ]
    }
   ],
   "execution_count": 12
  },
  {
   "cell_type": "markdown",
   "metadata": {
    "id": "tBFcL2S_J7Q-"
   },
   "source": [
    "### Задача 5. Путешествие по городам\n",
    "\n",
    "1) Создайте кортеж city_destinations с названиями городов разных стран (например, 'Токио', 'Рим', 'Нью-Йорк', 'Сидней').\n",
    "Используйте итераторы, чтобы вывести на экран названия городов в следующем порядке:\n",
    "- Ваш первый город\n",
    "- Второй город в путешествии\n",
    "- Третий город, который вы посетите\n",
    "- Последний город в вашем путеводителе\n",
    "\n",
    "2) Совершите ту же операцию с созданным кортежем используя цикл `for`.\n"
   ]
  },
  {
   "cell_type": "code",
   "metadata": {
    "id": "KYHMhDwxJ7RB",
    "ExecuteTime": {
     "end_time": "2024-10-24T17:54:02.055651Z",
     "start_time": "2024-10-24T17:54:02.046379Z"
    }
   },
   "source": [
    "# Решение\n",
    "city_destinations = ('Токио', 'Рим', 'Нью-Йорк', 'Сидней')\n",
    "city_iterator = iter(city_destinations)\n",
    "\n",
    "print(\"Ваш первый город:\", next(city_iterator))\n",
    "print(\"Второй город в путешествии:\", next(city_iterator))\n",
    "print(\"Третий город, который вы посетите:\", next(city_iterator))\n",
    "print(\"Последний город в вашем путеводителе:\", next(city_iterator))\n",
    "\n",
    "# Использование цикла for\n",
    "city_destinations = ('Токио', 'Рим', 'Нью-Йорк', 'Сидней')\n",
    "\n",
    "for index, city in enumerate(city_destinations):\n",
    "    if index == 0:\n",
    "        print(\"Ваш первый город:\", city)\n",
    "    elif index == 1:\n",
    "        print(\"Второй город в путешествии:\", city)\n",
    "    elif index == 2:\n",
    "        print(\"Третий город, который вы посетите:\", city)\n",
    "    elif index == 3:\n",
    "        print(\"Последний город в вашем путеводителе:\", city)"
   ],
   "outputs": [
    {
     "name": "stdout",
     "output_type": "stream",
     "text": [
      "Ваш первый город: Токио\n",
      "Второй город в путешествии: Рим\n",
      "Третий город, который вы посетите: Нью-Йорк\n",
      "Последний город в вашем путеводителе: Сидней\n",
      "Ваш первый город: Токио\n",
      "Второй город в путешествии: Рим\n",
      "Третий город, который вы посетите: Нью-Йорк\n",
      "Последний город в вашем путеводителе: Сидней\n"
     ]
    }
   ],
   "execution_count": 13
  },
  {
   "cell_type": "markdown",
   "metadata": {
    "id": "SvYMUmveJ7RD"
   },
   "source": [
    "### Задача 6. Работа с массивом\n",
    "\n",
    "1) Создайте массив, содержащий целые числа: `3, 7, 1, 9, 4, 8, 18, 28, 17, 31, 77, 95` и выведите его на экран.\n",
    "\n",
    "2) Найдите среднее значение элементов массива и выведите результат на экран.\n",
    "\n",
    "3)Добавьте новое значение в конец массива, например, `5555`. Выведите измененный массив на экран.\n",
    "\n",
    "4)Удалите значение из массива, например, 9. Выведите измененный массив на экран"
   ]
  },
  {
   "cell_type": "code",
   "execution_count": null,
   "metadata": {
    "id": "_SV4OrY9J7RE"
   },
   "outputs": [],
   "source": [
    "# Решение\n",
    "array = [3, 7, 1, 9, 4, 8, 18, 28, 17, 31, 77, 95]\n",
    "print(\"Исходный массив:\", array)\n",
    "\n",
    "average = sum(array) / len(array)\n",
    "print(\"Среднее значение элементов массива:\", average)\n",
    "\n",
    "array.append(5555)\n",
    "print(\"Массив после добавления 5555:\", array)\n",
    "\n",
    "array.remove(9)\n",
    "print(\"Массив после удаления 9:\", array)"
   ]
  },
  {
   "cell_type": "markdown",
   "source": [
    "### Задача 7. Try-except\n",
    "\n",
    "1) Напишите программу, которая запрашивает у пользователя два числа и выводит результат их деления.\n",
    "\n",
    "2) Добавьте обработку ошибок с использованием конструкции try/except. Ваша программа должна обрабатывать следующие сценарии:\n",
    "\n",
    "- Если ввод пользователя не является числом, выведите сообщение об ошибке.\n",
    "- Если пользователь введет ноль в качестве знаменателя, выведите сообщение об ошибке и запросите ввод снова."
   ],
   "metadata": {
    "id": "6b31rAoDfU7j"
   }
  },
  {
   "cell_type": "code",
   "source": [
    "# Решение\n",
    "while True:\n",
    "    try:\n",
    "        numerator = float(input(\"Введите числитель: \"))\n",
    "        denominator = float(input(\"Введите знаменатель: \"))\n",
    "        result = numerator / denominator\n",
    "    except ValueError:\n",
    "        print(\"Ошибка: введите корректное число.\")\n",
    "        continue\n",
    "    except ZeroDivisionError:\n",
    "        print(\"Ошибка: деление на ноль невозможно. Попробуйте снова.\")\n",
    "        continue\n",
    "    else:\n",
    "        print(f\"Результат деления: {result}\")\n",
    "        break\n"
   ],
   "metadata": {
    "id": "A7a0Oxm3ghbh",
    "executionInfo": {
     "status": "ok",
     "timestamp": 1706385755549,
     "user_tz": -300,
     "elapsed": 311,
     "user": {
      "displayName": "Azim Egamov",
      "userId": "02384127451703651537"
     }
    },
    "ExecuteTime": {
     "end_time": "2024-10-24T17:58:45.409611Z",
     "start_time": "2024-10-24T17:58:38.351089Z"
    }
   },
   "outputs": [
    {
     "name": "stdout",
     "output_type": "stream",
     "text": [
      "Результат деления: 0.5\n"
     ]
    }
   ],
   "execution_count": 14
  }
 ],
 "metadata": {
  "kernelspec": {
   "display_name": "Python 3",
   "language": "python",
   "name": "python3"
  },
  "language_info": {
   "codemirror_mode": {
    "name": "ipython",
    "version": 3
   },
   "file_extension": ".py",
   "mimetype": "text/x-python",
   "name": "python",
   "nbconvert_exporter": "python",
   "pygments_lexer": "ipython3",
   "version": "3.12.1"
  },
  "orig_nbformat": 4,
  "colab": {
   "provenance": [
    {
     "file_id": "1LmHsb8kD9kcDr0rFwSPofxNRQac4h0H_",
     "timestamp": 1706379738314
    }
   ]
  }
 },
 "nbformat": 4,
 "nbformat_minor": 0
}
